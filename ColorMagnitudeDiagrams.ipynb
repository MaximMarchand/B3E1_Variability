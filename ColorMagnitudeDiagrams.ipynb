{
 "cells": [
  {
   "cell_type": "code",
   "execution_count": null,
   "id": "lonely-conjunction",
   "metadata": {},
   "outputs": [],
   "source": [
    "import numpy as np\n",
    "from astropy.table import Table\n",
    "import matplotlib.pyplot as plt\n",
    "import os"
   ]
  },
  {
   "cell_type": "markdown",
   "id": "actual-divide",
   "metadata": {},
   "source": [
    "## Loading the data"
   ]
  },
  {
   "cell_type": "code",
   "execution_count": null,
   "id": "pressed-sculpture",
   "metadata": {},
   "outputs": [],
   "source": [
    "inFilePath_LMC = \"../TOPCAT/OGLE_LMC_2MASS_ALLWISE_GAIAEDR3_RESULTS_CrossMatch.fits\"\n",
    "inFilePath_SMC = \"../TOPCAT/OGLE_SMC_2MASS_ALLWISE_GAIAEDR3_RESULTS_CrossMatch.FITS\"\n",
    "\n",
    "df_LMC = Table.read(inFilePath_LMC, format='fits')\n",
    "df_SMC = Table.read(inFilePath_SMC, format='fits') # ERROR HERE"
   ]
  },
  {
   "cell_type": "markdown",
   "id": "limited-wheel",
   "metadata": {},
   "source": [
    "## Making plots"
   ]
  },
  {
   "cell_type": "code",
   "execution_count": null,
   "id": "wicked-bernard",
   "metadata": {},
   "outputs": [],
   "source": [
    "fSize = 13\n",
    "\n",
    "# = = = 2 M A S S = = = = = = = = = = = = = = = = = = = = = = = = = \n",
    "fig_2MASS = plt.figure(figsize=(6, 4), dpi=300)\n",
    "ax_2MASS = plt.subplot()\n",
    "ax_2MASS.invert_yaxis()\n",
    "\n",
    "#ax_2MASS.set_title(\"2MASS\", fontsize=fSize)\n",
    "ax_2MASS.set_xlabel(\"Jmag - Kmag\", fontsize=fSize)\n",
    "ax_2MASS.set_ylabel(\"Kmag\", fontsize=fSize)\n",
    "\n",
    "# Carbon rich stars\n",
    "selC = df_SMC[\"Spectr\"] == \"C-rich\"\n",
    "\n",
    "xC = df_SMC[\"Jmag_2MASS\"][selC]-df_SMC[\"Kmag_2MASS\"][selC]\n",
    "yC = df_SMC[\"Kmag_2MASS\"][selC]\n",
    "\n",
    "ax_2MASS.scatter(xC, yC, s=0.5, c='r', label='C-rich')\n",
    "ax_2MASS.scatter(xC, yC, s=0.5, c='k', alpha=0.05)\n",
    "\n",
    "# Oxygen rich stars\n",
    "selO = df_SMC[\"Spectr\"] == \"O-rich\"\n",
    "\n",
    "xO = df_SMC[\"Jmag_2MASS\"][selO]-df_SMC[\"Kmag_2MASS\"][selO]\n",
    "yO = df_SMC[\"Kmag_2MASS\"][selO]\n",
    "\n",
    "ax_2MASS.scatter(xO, yO, s=0.5, label='O-rich')\n",
    "ax_2MASS.scatter(xO, yO, s=0.5, c='k', alpha=0.05)\n",
    "\n",
    "ax_2MASS.legend()\n",
    "\n",
    "# = = = G A I A E D R 3 = = = = = = = = = = = = = = = = = = = = = \n",
    "fig_GAIA = plt.figure(figsize=(6, 4), dpi=300)\n",
    "ax_GAIA = plt.subplot()\n",
    "ax_GAIA.invert_yaxis()\n",
    "\n",
    "#ax_GAIA.set_title(\"GAIA EDR 3\", fontsize=fSize)\n",
    "ax_GAIA.set_xlabel(\"bp band - rp band\", fontsize=fSize)\n",
    "ax_GAIA.set_ylabel(\"g band\", fontsize=fSize)\n",
    "\n",
    "# Carbon rich stars\n",
    "xC = df_SMC[\"phot_bp_mean_mag_GAIAEDR3\"][selC]-df_SMC[\"phot_rp_mean_mag_GAIAEDR3\"][selC]\n",
    "yC = df_SMC[\"phot_g_mean_mag_GAIAEDR3\"][selC]\n",
    "\n",
    "ax_GAIA.scatter(xC, yC, s=0.5, c='r', label='C-rich')\n",
    "ax_GAIA.scatter(xC, yC, s=0.5, c='k', alpha=0.05)\n",
    "\n",
    "# Oxygen rich stars\n",
    "xO = df_SMC[\"phot_bp_mean_mag_GAIAEDR3\"][selO]-df_SMC[\"phot_rp_mean_mag_GAIAEDR3\"][selO]\n",
    "yO = df_SMC[\"phot_g_mean_mag_GAIAEDR3\"][selO]\n",
    "\n",
    "ax_GAIA.scatter(xO, yO, s=0.5, label='O-rich')\n",
    "ax_GAIA.scatter(xO, yO, s=0.5, c='k', alpha=0.05)\n",
    "\n",
    "ax_GAIA.legend()\n",
    "\n",
    "# Saving graphs\n",
    "projectPath = \"{}/Output/CMDs\".format(os.getcwd())\n",
    "reportPath = \"../Rapport/Images/Graphs/CMDs\"\n",
    "\n",
    "#fig_2MASS.savefig(\"{}/{}\".format(projectPath, \"CMD_2MASS.png\"), format=\"png\", bbox_inches=\"tight\", facecolor='w')\n",
    "#fig_2MASS.savefig(\"{}/{}\".format(reportPath, \"CMD_2MASS.png\"), format=\"png\", bbox_inches=\"tight\", facecolor='w')\n",
    "\n",
    "#fig_GAIA.savefig(\"{}/{}\".format(projectPath, \"CMD_GAIA.png\"), format=\"png\", bbox_inches=\"tight\", facecolor='w')\n",
    "#fig_GAIA.savefig(\"{}/{}\".format(reportPath, \"CMD_GAIA.png\"), format=\"png\", bbox_inches=\"tight\", facecolor='w')"
   ]
  }
 ],
 "metadata": {
  "kernelspec": {
   "display_name": "Python 3 (ipykernel)",
   "language": "python",
   "name": "python3"
  },
  "language_info": {
   "codemirror_mode": {
    "name": "ipython",
    "version": 3
   },
   "file_extension": ".py",
   "mimetype": "text/x-python",
   "name": "python",
   "nbconvert_exporter": "python",
   "pygments_lexer": "ipython3",
   "version": "3.11.3"
  }
 },
 "nbformat": 4,
 "nbformat_minor": 5
}
