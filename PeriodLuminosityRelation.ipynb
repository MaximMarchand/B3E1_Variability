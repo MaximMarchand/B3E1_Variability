{
 "cells": [
  {
   "cell_type": "markdown",
   "id": "legislative-yahoo",
   "metadata": {},
   "source": [
    "## Period luminosity relations\n",
    "We analyse the PL relation on a set of 300 Miras and 300 SRVs from LMC. Same for SMC"
   ]
  },
  {
   "cell_type": "code",
   "execution_count": null,
   "id": "numerical-compensation",
   "metadata": {},
   "outputs": [],
   "source": [
    "import numpy as np\n",
    "from astropy.table import Table\n",
    "from matplotlib import pyplot as plt\n",
    "from scipy import optimize as opt\n",
    "import os\n",
    "\n",
    "currentPath = os.getcwd()\n",
    "reportPath = \"../Rapport/Images/Graphs/PLRs\"\n",
    "\n",
    "fSize = 13"
   ]
  },
  {
   "cell_type": "markdown",
   "id": "ahead-carrier",
   "metadata": {},
   "source": [
    "#### Function funcpoly :  \n",
    "Evaluates a polynomial function of the type\n",
    "\\begin{equation}\n",
    "f(x) = a_0 + a_1x + a_2x^2 + ... + a_nx^n\n",
    "\\end{equation}\n",
    "\n",
    "Parameters :  \n",
    "- x  : The value to evaluate the function  \n",
    "- *a : Tuple containing the coefficients $(a_0, a_1, ..., a_n)$"
   ]
  },
  {
   "cell_type": "code",
   "execution_count": null,
   "id": "medium-sampling",
   "metadata": {},
   "outputs": [],
   "source": [
    "def funcPoly(x, *a):\n",
    "    return sum([a[i]*x**i for i in range(len(a))])"
   ]
  },
  {
   "cell_type": "markdown",
   "id": "entertaining-stewart",
   "metadata": {},
   "source": [
    "We load the data from the crossmatch made on TOPCAT. we create the variables lmc and smc. For each variables, we create a new entry $W_jk$ to prevent some unprecision due to the distance. We also create the entry \"C\" containing booleans if the star is an C-rich."
   ]
  },
  {
   "cell_type": "code",
   "execution_count": null,
   "id": "behind-homework",
   "metadata": {},
   "outputs": [],
   "source": [
    "# Charger les données\n",
    "dirData = \"../TOPCAT/\"\n",
    "pathLMC = dirData + \"OGLE_LMC_2MASS_ALLWISE_GAIAEDR3_RESULTS_CrossMatch.fits\"\n",
    "pathSMC = dirData + \"OGLE_SMC_2MASS_ALLWISE_GAIAEDR3_RESULTS_CrossMatch.fits\"\n",
    "# Load the data\n",
    "lmc = Table.read(pathLMC, format=\"fits\")\n",
    "lmc[\"Wjk\"] = lmc[\"Kmag_2MASS\"] - 0.686 * ( lmc[\"Jmag_2MASS\"] - lmc[\"Kmag_2MASS\"] )\n",
    "lmc[\"C\"] = lmc[\"Spectr\"] == \"C-rich\"\n",
    "\n",
    "smc = Table.read(pathSMC, format=\"fits\")\n",
    "smc[\"Wjk\"] = smc[\"Kmag_2MASS\"] - 0.686 * ( smc[\"Jmag_2MASS\"] - smc[\"Kmag_2MASS\"] )\n",
    "smc[\"C\"] = smc[\"Spectr\"] == \"C-rich\""
   ]
  },
  {
   "cell_type": "code",
   "execution_count": null,
   "id": "frequent-retirement",
   "metadata": {},
   "outputs": [],
   "source": [
    "#sel = [True if type(_) != type(np.ma.core.MaskedConstant()) else False for _ in lmc['P1'] ]\n",
    "\n",
    "#stars = lmc['Type'][sel]\n",
    "#print(stars)"
   ]
  },
  {
   "cell_type": "code",
   "execution_count": null,
   "id": "formal-lightning",
   "metadata": {},
   "outputs": [],
   "source": [
    "#print(len(lmc['P1'][~np.isnan(lmc['P1'])]))\n",
    "#print(set(lmc['Type'][~np.isnan(lmc['P1'])]))\n",
    "#print(len(lmc['PFM'][~np.isnan(lmc['PFM']) & (lmc['Type']=='SRV')]))\n",
    "#print(set(lmc['Type'][~np.isnan(lmc['PFM'])]))"
   ]
  },
  {
   "cell_type": "code",
   "execution_count": null,
   "id": "plastic-wallace",
   "metadata": {
    "scrolled": false
   },
   "outputs": [],
   "source": [
    "# Graphique de Wjk vs log(P1)\n",
    "xLim = (1.5, 3.7)\n",
    "yLim = (13.5, 2.5)\n",
    "\n",
    "# y = a_0 + a_1*x  sepLines = [[a_0, a_1], ...]\n",
    "lmcSepLines = [[21, -5], [23.3, -5]]\n",
    "\n",
    "x = np.log10(lmc[\"P1\"])\n",
    "y = lmc[\"Wjk\"]\n",
    "sel = lmc[\"C\"] # selection\n",
    "\n",
    "xx = np.linspace(*xLim, 2)\n",
    "\n",
    "fig = plt.figure(figsize=(6, 4), dpi=150)\n",
    "ax = fig.add_subplot()\n",
    "ax.set_xlabel(\"log(P1)\", fontsize=fSize)\n",
    "ax.set_ylabel(\"Wjk\", fontsize=fSize)\n",
    "ax.set_xlim(xLim)\n",
    "ax.set_ylim(yLim)\n",
    "[ax.scatter(x[_], y[_], c=c, label=l, s=1) for _, c, l in zip([sel, ~sel], \"rb\", [\"C-rich\", \"O-rich\"])]\n",
    "[ax.plot(xx, funcPoly(xx, *_), c=c, linewidth=0.9) for _, c in zip(lmcSepLines, [\"gray\", \"gray\"])]\n",
    "ax.legend(fontsize=8)"
   ]
  },
  {
   "cell_type": "code",
   "execution_count": null,
   "id": "frozen-bandwidth",
   "metadata": {},
   "outputs": [],
   "source": [
    "# Primary period is not always the fundamental mode\n",
    "seqC1 = (lmc[\"Wjk\"] > funcPoly(np.log10(lmc[\"P1\"]), *lmcSepLines[0])) & ( (lmc[\"Wjk\"] < funcPoly(np.log10(lmc[\"P1\"]), *lmcSepLines[1])) ) \n",
    "seqC2 = (lmc[\"Wjk\"] > funcPoly(np.log10(lmc[\"P2\"]), *lmcSepLines[0])) & ( (lmc[\"Wjk\"] < funcPoly(np.log10(lmc[\"P2\"]), *lmcSepLines[1])) ) \n",
    "seqC3 = (lmc[\"Wjk\"] > funcPoly(np.log10(lmc[\"P3\"]), *lmcSepLines[0])) & ( (lmc[\"Wjk\"] < funcPoly(np.log10(lmc[\"P3\"]), *lmcSepLines[1])) ) \n",
    "PFM = 1*lmc[\"P1\"] # Period of the fundamental mode\n",
    "\n",
    "sel = ~seqC1 & seqC2\n",
    "PFM[sel] = lmc[\"P2\"][sel]\n",
    "\n",
    "sel = ~seqC1 & ~seqC2 & seqC3\n",
    "PFM[sel] = lmc[\"P3\"][sel]\n",
    "\n",
    "sel = ~seqC1 & ~seqC2 & ~seqC3\n",
    "PFM[sel] = np.nan\n",
    "\n",
    "lmc[\"PFM\"] = 1*PFM"
   ]
  },
  {
   "cell_type": "code",
   "execution_count": null,
   "id": "sporting-relation",
   "metadata": {
    "scrolled": false
   },
   "outputs": [],
   "source": [
    "xLim = (1.5, 3.7)\n",
    "yLim = (13.5, 2.5)\n",
    "\n",
    "x = np.log10(lmc[\"P1\"])\n",
    "y = lmc[\"Wjk\"]\n",
    "sel = lmc[\"C\"]\n",
    "xx = np.linspace(*xLim, 2)\n",
    "\n",
    "fig = plt.figure(figsize=(6, 4), dpi=300)\n",
    "ax = fig.add_subplot()\n",
    "ax.set_xlim(xLim)\n",
    "ax.set_ylim(yLim)\n",
    "ax.set_xlabel(\"log(P1)\", fontsize=fSize)\n",
    "ax.set_ylabel(\"$W_{jk}$\", fontsize=fSize)\n",
    "ax.scatter(x, y, s=1)\n",
    "[ax.scatter(x[seqC1&_], y[seqC1&_], c=c, s=1, label=l) for _, c, l in zip([sel, ~sel], \"rb\", [\"C-rich\", \"O-rich\"])]\n",
    "[ax.plot(xx, funcPoly(xx, *_), c=\"gray\", linewidth=0.9) for _ in lmcSepLines]\n",
    "ax.legend(fontsize=8)\n",
    "#fig.savefig(\"{0}/Output/PLRs/{1}\".format(currentPath, \"PLR_LMC_tot.png\"), bbox_inches = \"tight\")\n",
    "#fig.savefig(\"{0}/{1}\".format(reportPath, \"PLR_LMC_tot.png\"), bbox_inches = \"tight\")"
   ]
  },
  {
   "cell_type": "code",
   "execution_count": null,
   "id": "economic-publicity",
   "metadata": {
    "scrolled": false
   },
   "outputs": [],
   "source": [
    "xLim = (1.5, 3.7)\n",
    "yLim = (13.5, 2.5)\n",
    "\n",
    "x = np.log10(PFM)\n",
    "y = lmc[\"Wjk\"]\n",
    "_s = lmc[\"C\"]\n",
    "\n",
    "\n",
    "xx = np.linspace(*xLim, 2)\n",
    "\n",
    "fig = plt.figure(figsize=(6, 4), dpi=300)\n",
    "ax = fig.add_subplot()\n",
    "ax.set_xlim(xLim)\n",
    "ax.set_ylim(yLim)\n",
    "ax.set_xlabel(\"log(P1)\")\n",
    "ax.set_ylabel(\"$W_{jk}$\")\n",
    "\n",
    "for s, c, l in zip([_s, ~_s], \"rb\", [\"C-rich\", \"O-rich\"]):\n",
    "\n",
    "    ax.scatter(x[s], y[s], c=c, s=1, label=l)\n",
    "    p0 = [1, 1]\n",
    "\n",
    "    sel = ~np.isnan(x) & ~np.isnan(x)\n",
    "\n",
    "    par, cov = opt.curve_fit(funcPoly, x[sel & s], y[sel & s], p0)\n",
    "    err = np.sqrt(np.diag(cov))\n",
    "    print('{} par : {}'.format(c, par))\n",
    "    print('{} err : {}'.format(c, err))\n",
    "    ax.plot(xx, funcPoly(xx, *par), c=c, linewidth=0.9, label=\"{0:.1f} $\\pm$ {1:.1f} + ({2:.1f} $\\pm$ {3:.1f})x\".format(par[0], err[1], par[1], err[1]))\n",
    "    \n",
    "ax.legend(fontsize=8)\n",
    "\n",
    "#fig.savefig(\"{0}/Output/PLRs/{1}\".format(currentPath, \"PLR_LMC_lin.png\"), bbox_inches = \"tight\")\n",
    "#fig.savefig(\"{0}/{1}\".format(reportPath, \"PLR_LMC_lin.png\"), bbox_inches = \"tight\")\n",
    "\n",
    "qLMC = par[0]\n",
    "print('qLMC : {}'.format(qLMC))"
   ]
  },
  {
   "cell_type": "markdown",
   "id": "parallel-forest",
   "metadata": {},
   "source": [
    "SAME THING FOR THE SMC"
   ]
  },
  {
   "cell_type": "code",
   "execution_count": null,
   "id": "organic-rough",
   "metadata": {},
   "outputs": [],
   "source": [
    "xLim = (1.5, 3.7)\n",
    "yLim = (13.5, 2.5)\n",
    "\n",
    "# y = a_0 + a_1*x  sepLines = [[a_0, a_1], ...]\n",
    "smcSepLines = [[21.3, -5], [23.6, -5]]\n",
    "\n",
    "x = np.log10(smc[\"P1\"])\n",
    "y = smc[\"Wjk\"]\n",
    "s = smc[\"C\"] # selection\n",
    "\n",
    "xx = np.linspace(*xLim, 2)\n",
    "\n",
    "fig = plt.figure(figsize=(6, 4), dpi=300)\n",
    "ax = fig.add_subplot()\n",
    "ax.set_xlabel(\"log(P1)\")\n",
    "ax.set_ylabel(\"$W_{jk}$\")\n",
    "ax.set_xlim(xLim)\n",
    "ax.set_ylim(yLim)\n",
    "[ax.scatter(x[_], y[_], c=c, s=1) for _, c in zip([s, ~s], \"rb\")]\n",
    "[ax.plot(xx, funcPoly(xx, *_), c='gray', linewidth=0.9) for _ in smcSepLines]"
   ]
  },
  {
   "cell_type": "code",
   "execution_count": null,
   "id": "cubic-orbit",
   "metadata": {},
   "outputs": [],
   "source": [
    "# Primary period is not always the fundamental mode\n",
    "\n",
    "seqC1 = (smc[\"Wjk\"] > funcPoly(np.log10(smc[\"P1\"]), *smcSepLines[0])) & ( (smc[\"Wjk\"] < funcPoly(np.log10(smc[\"P1\"]), *smcSepLines[1])) ) \n",
    "seqC2 = (smc[\"Wjk\"] > funcPoly(np.log10(smc[\"P2\"]), *smcSepLines[0])) & ( (smc[\"Wjk\"] < funcPoly(np.log10(smc[\"P2\"]), *smcSepLines[1])) ) \n",
    "seqC3 = (smc[\"Wjk\"] > funcPoly(np.log10(smc[\"P3\"]), *smcSepLines[0])) & ( (smc[\"Wjk\"] < funcPoly(np.log10(smc[\"P3\"]), *smcSepLines[1])) ) \n",
    "PFM = 1*smc[\"P1\"] # Period of the fundamental mode\n",
    "\n",
    "sel = ~seqC1 & seqC2\n",
    "PFM[sel] = smc[\"P2\"][sel]\n",
    "\n",
    "sel = ~seqC1 & ~seqC2 & seqC3\n",
    "PFM[sel] = smc[\"P3\"][sel]\n",
    "\n",
    "sel = ~seqC1 & ~seqC2 & ~seqC3\n",
    "PFM[sel] = np.nan\n",
    "\n",
    "smc[\"PFM\"] = 1*PFM"
   ]
  },
  {
   "cell_type": "code",
   "execution_count": null,
   "id": "separated-navigation",
   "metadata": {},
   "outputs": [],
   "source": [
    "xLim = (1.5, 3.7)\n",
    "yLim = (13.5, 2.5)\n",
    "\n",
    "x = np.log10(smc[\"P1\"])\n",
    "y = smc[\"Wjk\"]\n",
    "sel = smc[\"C\"]\n",
    "\n",
    "xx = np.linspace(*xLim, 2)\n",
    "\n",
    "fig = plt.figure(figsize=(6, 4), dpi=300)\n",
    "ax = fig.add_subplot()\n",
    "ax.set_xlim(xLim)\n",
    "ax.set_ylim(yLim)\n",
    "ax.set_xlabel(\"log(P1)\")\n",
    "ax.set_ylabel(\"$W_{jk}$\")\n",
    "ax.scatter(x, y, s=1)\n",
    "[ax.scatter(x[seqC1&_], y[seqC1&_], c=c, s=1, label=l) for _, c, l in zip([sel, ~sel], \"rb\", [\"C-rich\", \"O-rich\"])]\n",
    "[ax.plot(xx, funcPoly(xx, *_), color=\"gray\", linewidth=0.9) for _ in smcSepLines]\n",
    "\n",
    "ax.legend(fontsize=8)\n",
    "\n",
    "#fig.savefig(\"{0}/Output/PLRs/{1}\".format(currentPath, \"PLR_SMC_tot.png\"), bbox_inches = \"tight\")\n",
    "#fig.savefig(\"{0}/{1}\".format(reportPath, \"PLR_SMC_tot.png\"), bbox_inches = \"tight\")"
   ]
  },
  {
   "cell_type": "code",
   "execution_count": null,
   "id": "knowing-combining",
   "metadata": {},
   "outputs": [],
   "source": [
    "xLim = (1.5, 3.7)\n",
    "yLim = (13.5, 2.5)\n",
    "\n",
    "x = np.log10(PFM)\n",
    "y = smc[\"Wjk\"]\n",
    "_s = smc[\"C\"]\n",
    "\n",
    "xx = np.linspace(*xLim, 2)\n",
    "\n",
    "fig = plt.figure(figsize=(6, 4), dpi=300)\n",
    "ax = fig.add_subplot()\n",
    "ax.set_xlim(xLim)\n",
    "ax.set_ylim(yLim)\n",
    "ax.set_xlabel(\"log(P1)\")\n",
    "ax.set_ylabel(\"$W_{jk}$\")\n",
    "\n",
    "for s, c, l in zip([_s, ~_s], \"rb\", [\"C-rich\", \"O-rich\"]):\n",
    "\n",
    "    ax.scatter(x[s], y[s], c=c, s=1, label=l)\n",
    "    p0 = [1, 1]\n",
    "\n",
    "    sel = ~np.isnan(x) & ~np.isnan(x)\n",
    "\n",
    "    par, cov = opt.curve_fit(funcPoly, x[sel & s], y[sel & s], p0)\n",
    "    err = np.sqrt(np.diag(cov))\n",
    "    print(par)\n",
    "    ax.plot(xx, funcPoly(xx, *par), c=c, linewidth=0.9, label=\"{0:.1f} $\\pm$ {1:.1f} + ({2:.1f} $\\pm$ {3:.1f})x\".format(par[0], err[1], par[1], err[1]))\n",
    "\n",
    "ax.legend(fontsize=8)    \n",
    "\n",
    "#fig.savefig(\"{0}/Output/PLRs/{1}\".format(currentPath, \"PLR_SMC_lin.png\"), bbox_inches = \"tight\")\n",
    "#fig.savefig(\"{0}/{1}\".format(reportPath, \"PLR_SMC_lin.png\"), bbox_inches = \"tight\")"
   ]
  },
  {
   "cell_type": "code",
   "execution_count": null,
   "id": "viral-avatar",
   "metadata": {},
   "outputs": [],
   "source": [
    "def fPLR(x, q): # Period Luminosity Relation\n",
    "    \"\"\"\n",
    "    x : log(p)\n",
    "    q : intercept\n",
    "    \"\"\"\n",
    "    return q - 3.89732574 * x"
   ]
  },
  {
   "cell_type": "code",
   "execution_count": null,
   "id": "associate-walker",
   "metadata": {},
   "outputs": [],
   "source": [
    "xLim = (1.5, 3.7)\n",
    "yLim = (13.5, 2.5)\n",
    "\n",
    "x = np.log10(PFM)\n",
    "y = smc[\"Wjk\"]\n",
    "s = ~smc[\"C\"]\n",
    "\n",
    "xx = np.linspace(*xLim, 2)\n",
    "\n",
    "fig = plt.figure(figsize=(6, 4), dpi=300)\n",
    "ax = fig.add_subplot()\n",
    "ax.set_xlim(xLim)\n",
    "ax.set_ylim(yLim)\n",
    "ax.set_xlabel(\"log(P1)\")\n",
    "ax.set_ylabel(\"$W_{jk}$\")\n",
    "\n",
    "c='b'\n",
    "\n",
    "ax.scatter(x[s], y[s], c=c, s=1, label=\"O-rich\")\n",
    "p0 = [1]\n",
    "\n",
    "sel = ~np.isnan(x) & ~np.isnan(x)\n",
    "\n",
    "par, cov = opt.curve_fit(fPLR, x[sel & s], y[sel & s], p0)\n",
    "print(par)\n",
    "qSMC = par[0]\n",
    "ax.plot(xx, fPLR(xx, *par), c=c, linewidth=0.9, label=\"{0:.1f} $\\pm$ {1:.1f} + ({2:.1f} $\\pm$ {3:.1f})x\".format(par[0], err[0], -3.9, 0.1))\n",
    "ax.legend(fontsize=8)\n",
    "\n",
    "#fig.savefig(\"{0}/Output/PLRs/{1}\".format(currentPath, \"PLR_SMC_linFinal.png\"), bbox_inches = \"tight\")\n",
    "#fig.savefig(\"{0}/{1}\".format(reportPath, \"PLR_SMC_linFinal.png\"), bbox_inches = \"tight\")"
   ]
  },
  {
   "cell_type": "code",
   "execution_count": null,
   "id": "designing-headquarters",
   "metadata": {},
   "outputs": [],
   "source": [
    "delta_q = qLMC - qSMC\n",
    "muLMCTheo = 18.49\n",
    "muSMCTheo = 18.96\n",
    "muSMC = muLMCTheo - delta_q\n",
    "\n",
    "print(\"delta_q = {0} - {1} = {2}\".format(qLMC, qSMC, delta_q))\n",
    "\n",
    "print(\"mu_SMC = {0}\".format(muSMC))"
   ]
  },
  {
   "cell_type": "markdown",
   "id": "sought-webmaster",
   "metadata": {},
   "source": [
    "ERROR estimation"
   ]
  },
  {
   "cell_type": "code",
   "execution_count": null,
   "id": "illegal-rescue",
   "metadata": {},
   "outputs": [],
   "source": [
    "deltabLMC = 0.1 \n",
    "deltabSMC = 0.3\n",
    "muLMCTheo = 18.49\n",
    "deltaMuLMC = 0.09\n",
    "deltaMu = deltabLMC**2 + deltabSMC**2 + deltaMuLMC**2\n",
    "\n",
    "print('Delta  mu scm = {:.1f}'.format(np.sqrt(deltaMu)))"
   ]
  }
 ],
 "metadata": {
  "kernelspec": {
   "display_name": "Python 3 (ipykernel)",
   "language": "python",
   "name": "python3"
  },
  "language_info": {
   "codemirror_mode": {
    "name": "ipython",
    "version": 3
   },
   "file_extension": ".py",
   "mimetype": "text/x-python",
   "name": "python",
   "nbconvert_exporter": "python",
   "pygments_lexer": "ipython3",
   "version": "3.11.3"
  }
 },
 "nbformat": 4,
 "nbformat_minor": 5
}
