{
 "cells": [
  {
   "cell_type": "code",
   "execution_count": null,
   "id": "passive-phrase",
   "metadata": {},
   "outputs": [],
   "source": [
    "import numpy as np\n",
    "import matplotlib.pyplot as plt\n",
    "import os\n",
    "from astropy.table import Table\n",
    "from astropy import units as u\n",
    "from astropy.coordinates import SkyCoord"
   ]
  },
  {
   "cell_type": "markdown",
   "id": "private-irrigation",
   "metadata": {},
   "source": [
    "## OGLE LMC and SMC sky coverage"
   ]
  },
  {
   "cell_type": "markdown",
   "id": "conventional-appliance",
   "metadata": {},
   "source": [
    "#### Loading the data"
   ]
  },
  {
   "cell_type": "code",
   "execution_count": null,
   "id": "regional-serial",
   "metadata": {},
   "outputs": [],
   "source": [
    "inFilePath_LMC = \"../TOPCAT/OGLE_LMC_2MASS_ALLWISE_GAIAEDR3_RESULTS_CrossMatch.fits\"\n",
    "inFilePath_SMC = \"../TOPCAT/OGLE_SMC_2MASS_ALLWISE_GAIAEDR3_RESULTS_CrossMatch.FITS\"\n",
    "\n",
    "df_LMC = Table.read(inFilePath_LMC, format='fits')\n",
    "df_SMC = Table.read(inFilePath_SMC, format='fits')"
   ]
  },
  {
   "cell_type": "markdown",
   "id": "computational-cooling",
   "metadata": {},
   "source": [
    "#### Making the graphs"
   ]
  },
  {
   "cell_type": "code",
   "execution_count": null,
   "id": "familiar-witness",
   "metadata": {},
   "outputs": [],
   "source": [
    "cLMC = SkyCoord(df_LMC['RA'], df_LMC['Decl'], unit=(u.hourangle, u.deg))\n",
    "cSMC = SkyCoord(df_SMC['RA'], df_SMC['Decl'], unit=(u.hourangle, u.deg))"
   ]
  },
  {
   "cell_type": "code",
   "execution_count": null,
   "id": "iraqi-contest",
   "metadata": {},
   "outputs": [],
   "source": [
    "fig = plt.figure(figsize=(4, 6), dpi=300)\n",
    "\n",
    "fig.subplots_adjust(left=0.1,\n",
    "                    bottom=0.1, \n",
    "                    right=0.9, \n",
    "                    top=0.9, \n",
    "                    wspace=0.4, \n",
    "                    hspace=0.4)\n",
    "\n",
    "axLMC = fig.add_subplot(211)\n",
    "axLMC.set_title('Large Magellanic Cloud')\n",
    "axLMC.invert_xaxis()\n",
    "axLMC.scatter(cLMC.ra, cLMC.dec, s=0.1)\n",
    "axLMC.scatter(cLMC.ra, cLMC.dec, s=0.1, c='k', alpha=0.1)\n",
    "\n",
    "axLMC.set_xlabel('RA [deg]')\n",
    "axLMC.set_ylabel('Decl [deg]')\n",
    "\n",
    "for x in np.arange(70, 95, 6):\n",
    "    axLMC.axvline(x, c='gray', linewidth=0.3, alpha=0.5)\n",
    "for y in np.array([-68, -70, -72]):\n",
    "    axLMC.axhline(y, c='gray', linewidth=0.3, alpha=0.5)\n",
    "    \n",
    "axSMC = fig.add_subplot(212)\n",
    "axSMC.set_title('Small Magellanic Cloud')\n",
    "axSMC.invert_xaxis()\n",
    "axSMC.scatter(cSMC.ra, cSMC.dec, s=0.1)\n",
    "axSMC.scatter(cSMC.ra, cSMC.dec, s=0.1, c='k', alpha=0.1)\n",
    "\n",
    "\n",
    "for x in np.arange(5, 20, 4):\n",
    "    axSMC.axvline(x, c='gray', linewidth=0.3, alpha=0.5)\n",
    "for y in np.array([-71, -72, -73, -74]):\n",
    "    axSMC.axhline(y, c='gray', linewidth=0.3, alpha=0.5)\n",
    "    \n",
    "\n",
    "axSMC.set_xlabel('RA [deg]')\n",
    "axSMC.set_ylabel('Decl [deg]')\n",
    "\n",
    "#fig.savefig('{}/Output/OGLE_skyCoverage.png'.format(os.getcwd()), bbox_inches='tight', facecolor='w')"
   ]
  }
 ],
 "metadata": {
  "kernelspec": {
   "display_name": "Python 3 (ipykernel)",
   "language": "python",
   "name": "python3"
  },
  "language_info": {
   "codemirror_mode": {
    "name": "ipython",
    "version": 3
   },
   "file_extension": ".py",
   "mimetype": "text/x-python",
   "name": "python",
   "nbconvert_exporter": "python",
   "pygments_lexer": "ipython3",
   "version": "3.11.3"
  }
 },
 "nbformat": 4,
 "nbformat_minor": 5
}
